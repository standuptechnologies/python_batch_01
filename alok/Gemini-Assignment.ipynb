{
 "cells": [
  {
   "cell_type": "code",
   "execution_count": 1,
   "metadata": {
    "colab": {
     "base_uri": "https://localhost:8080/"
    },
    "executionInfo": {
     "elapsed": 407,
     "status": "ok",
     "timestamp": 1645017873170,
     "user": {
      "displayName": "ravi teja",
      "photoUrl": "https://lh3.googleusercontent.com/a/default-user=s64",
      "userId": "17248124563334733166"
     },
     "user_tz": -330
    },
    "id": "bj1gVkYhvmnL",
    "outputId": "b4ff6fcf-3477-4ee7-db68-f5132cec73b9"
   },
   "outputs": [
    {
     "data": {
      "text/plain": [
       "'\\nImplement a generator to return all whole numbers\\n\\nx = infinite_numbers()\\nnext(x) -> 1\\nnext(x) -> 2\\nnext(x) -> 3\\n...\\n'"
      ]
     },
     "execution_count": 1,
     "metadata": {},
     "output_type": "execute_result"
    }
   ],
   "source": [
    "\"\"\"\n",
    "Implement a generator to return all whole numbers\n",
    "\n",
    "x = infinite_numbers()\n",
    "next(x) -> 1\n",
    "next(x) -> 2\n",
    "next(x) -> 3\n",
    "...\n",
    "\"\"\""
   ]
  },
  {
   "cell_type": "code",
   "execution_count": null,
   "metadata": {
    "colab": {
     "base_uri": "https://localhost:8080/"
    },
    "executionInfo": {
     "elapsed": 428,
     "status": "ok",
     "timestamp": 1645018112150,
     "user": {
      "displayName": "ravi teja",
      "photoUrl": "https://lh3.googleusercontent.com/a/default-user=s64",
      "userId": "17248124563334733166"
     },
     "user_tz": -330
    },
    "id": "-iP8qKBwEouj",
    "outputId": "a69f7668-7b13-418c-cfe5-2fbcb0944da3"
   },
   "outputs": [
    {
     "name": "stdout",
     "output_type": "stream",
     "text": [
      "hi\n",
      "hello world\n",
      "bye\n"
     ]
    }
   ],
   "source": [
    "'''\n",
    "hi\n",
    "hello world\n",
    "bye\n",
    "\n",
    "'''\n",
    "  "
   ]
  },
  {
   "cell_type": "code",
   "execution_count": null,
   "metadata": {
    "id": "Vcze--pRz2oI"
   },
   "outputs": [],
   "source": [
    "\"\"\"\n",
    "Given a string s containing just the characters '(', ')', '{', '}', '[' and ']', determine if the input string is valid.\n",
    "\n",
    "An input string is valid if:\n",
    "\n",
    "    Open brackets must be closed by the same type of brackets.\n",
    "    Open brackets must be closed in the correct order.\n",
    "\n",
    "Input: s = \"()\"\n",
    "Output: true\n",
    "\n",
    "Input: s = \"()[]{}\"\n",
    "Output: true\n",
    "\n",
    "Input: s = \"(]\"\n",
    "Output: false\n",
    "\n",
    "Input: s = \"([)]\"\n",
    "Output: false\n",
    "\n",
    "Input: s = \"{[]}\"\n",
    "Output: true\n",
    "\"\"\"\n",
    "\n",
    "def valid_string(string) -> bool:\n",
    "  pass\n",
    "\n",
    "\n",
    "valid_string('(())')\n",
    "  "
   ]
  },
  {
   "cell_type": "code",
   "execution_count": 2,
   "metadata": {
    "colab": {
     "base_uri": "https://localhost:8080/"
    },
    "executionInfo": {
     "elapsed": 430,
     "status": "ok",
     "timestamp": 1645018966450,
     "user": {
      "displayName": "ravi teja",
      "photoUrl": "https://lh3.googleusercontent.com/a/default-user=s64",
      "userId": "17248124563334733166"
     },
     "user_tz": -330
    },
    "id": "lYfjbj_rAocz",
    "outputId": "a1188da5-efee-4442-fb16-24cd434a5801"
   },
   "outputs": [
    {
     "data": {
      "text/plain": [
       "'\\nGiven a word, you need to judge whether the usage of capitals in it is right or not.\\n\\nWe define the usage of capitals in a word to be right when one of the following cases holds:\\n\\n    All letters in this word are capitals, like \"USA\".\\n    All letters in this word are not capitals, like \"gemini\".\\n    Only the first letter in this word is capital, like \"India\".\\n\\nOtherwise, we define that this word doesn\\'t use capitals in a right way.\\n\\nExample 1:\\nInput: \"USA\"\\nOutput: True\\n\\nExample 2:\\nInput: \"FlaG\"\\nOutput: False\\n\\nExample 3:\\nInput: \"indiA\"\\nOutput: False\\n'"
      ]
     },
     "execution_count": 2,
     "metadata": {},
     "output_type": "execute_result"
    }
   ],
   "source": [
    "\"\"\"\n",
    "Given a word, you need to judge whether the usage of capitals in it is right or not.\n",
    "\n",
    "We define the usage of capitals in a word to be right when one of the following cases holds:\n",
    "\n",
    "    All letters in this word are capitals, like \"USA\".\n",
    "    All letters in this word are not capitals, like \"gemini\".\n",
    "    Only the first letter in this word is capital, like \"India\".\n",
    "\n",
    "Otherwise, we define that this word doesn't use capitals in a right way.\n",
    "\n",
    "Example 1:\n",
    "Input: \"USA\"\n",
    "Output: True\n",
    "\n",
    "Example 2:\n",
    "Input: \"FlaG\"\n",
    "Output: False\n",
    "\n",
    "Example 3:\n",
    "Input: \"indiA\"\n",
    "Output: False\n",
    "\"\"\"\n",
    "\n",
    "# A-65, Z - 90\n",
    "# a - 97, z- 122\n",
    "\n",
    "\n",
    "    "
   ]
  },
  {
   "cell_type": "code",
   "execution_count": null,
   "metadata": {
    "id": "dKO_QosgdwOC"
   },
   "outputs": [],
   "source": [
    "\"\"\"\n",
    "Given a string, you need to find whether the string reads same from forward and end.\n",
    "\n",
    "Input: \"A man, a plan, a canal: Panama\"\n",
    "Output: true\n",
    "\n",
    "Input: \"race a car\"\n",
    "Output: false\n",
    "\"\"\"\n",
    "\n",
    "\n",
    "def is_palindrome(s):\n",
    "  pass\n",
    "\n",
    "s = \"A man, a plan, a canal: Panama\"\n",
    "is_palindrome(s)\n",
    "  \n"
   ]
  },
  {
   "cell_type": "code",
   "execution_count": null,
   "metadata": {
    "id": "0h6o4GfOqB3v"
   },
   "outputs": [],
   "source": [
    "\"\"\"\n",
    "Given an array of integers nums and an integer target, return indices of the two numbers such that they add up to target.\n",
    "\n",
    "You may assume that each input would have exactly one solution, and you may not use the same element twice.\n",
    "\n",
    "You can return the answer in any order.\n",
    "\"\"\"\n",
    "\n",
    "def two_number_sum(nums, target):\n",
    "    pass\n",
    "\n",
    "print(two_number_sum([9,1,3,2,5], 10))"
   ]
  },
  {
   "cell_type": "code",
   "execution_count": null,
   "metadata": {
    "id": "b_yBQGGTeiPo"
   },
   "outputs": [],
   "source": [
    "\n",
    "\"\"\"\n",
    "\n",
    "Given an integer array nums, move all the even integers at the beginning of the array followed by all the odd integers.\n",
    "\n",
    "Return any array that satisfies this condition.\n",
    "\n",
    "Input: nums = [3,1,2,4]\n",
    "Output: [2,4,3,1]\n",
    "Explanation: The outputs [4,2,3,1], [2,4,1,3], and [4,2,1,3] would also be accepted.\n",
    "\"\"\"\n",
    "\n",
    "def even(a):\n",
    "  pass\n",
    "\n",
    "\n",
    "k =[3,1,2,4]\n",
    "print(even(k))\n",
    "\n",
    "\n",
    "\n",
    "     \n"
   ]
  },
  {
   "cell_type": "code",
   "execution_count": null,
   "metadata": {
    "id": "fqFQuVB0FBTY"
   },
   "outputs": [],
   "source": []
  }
 ],
 "metadata": {
  "colab": {
   "collapsed_sections": [],
   "name": "Copy of Gemini-Assignment.ipynb",
   "provenance": [
    {
     "file_id": "1VYphlQPqg15tZ8pX_UnuL49fCW2epHx4",
     "timestamp": 1645019312716
    }
   ]
  },
  "kernelspec": {
   "display_name": "Python 3 (ipykernel)",
   "language": "python",
   "name": "python3"
  },
  "language_info": {
   "codemirror_mode": {
    "name": "ipython",
    "version": 3
   },
   "file_extension": ".py",
   "mimetype": "text/x-python",
   "name": "python",
   "nbconvert_exporter": "python",
   "pygments_lexer": "ipython3",
   "version": "3.9.8"
  }
 },
 "nbformat": 4,
 "nbformat_minor": 1
}
