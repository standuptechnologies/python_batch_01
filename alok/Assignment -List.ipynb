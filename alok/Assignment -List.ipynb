{
 "cells": [
  {
   "cell_type": "markdown",
   "id": "97c99978",
   "metadata": {},
   "source": [
    "Q. Indexing and Negative Indexing (How can You reverse a string through indexing?)"
   ]
  },
  {
   "cell_type": "code",
   "execution_count": 1,
   "id": "b517c098",
   "metadata": {},
   "outputs": [
    {
     "name": "stdout",
     "output_type": "stream",
     "text": [
      "alok\n",
      "kola\n"
     ]
    }
   ],
   "source": [
    "def reverse(string):\n",
    "    string = string[::-1]\n",
    "    return string\n",
    "s = \"alok\"\n",
    "print(s)\n",
    "\n",
    "print(reverse(s))"
   ]
  },
  {
   "cell_type": "markdown",
   "id": "ee5feec9",
   "metadata": {},
   "source": [
    "Q. example given the string \"Welcome to the danger zone\" should become \"zone danger the to Welcome\" and not enoz regnad eht ot emocleW"
   ]
  },
  {
   "cell_type": "code",
   "execution_count": 2,
   "id": "00da920e",
   "metadata": {},
   "outputs": [
    {
     "name": "stdout",
     "output_type": "stream",
     "text": [
      "zone danger the to Welcome\n"
     ]
    }
   ],
   "source": [
    "def rev_sentence(sentence):\n",
    "    words = sentence.split(' ')\n",
    "    reverse_sentence = ' '.join(reversed(words))\n",
    "    return reverse_sentence\n",
    "if __name__ == \"__main__\":\n",
    "    input = 'Welcome to the danger zone'\n",
    "    print(rev_sentence(input))"
   ]
  },
  {
   "cell_type": "markdown",
   "id": "79a8379e",
   "metadata": {},
   "source": [
    "Q. You are given a string input, let's say \"Hello World!\". Your output should be, how many times each character is showing up in the string. So, in this example, it should write:\n",
    "\n",
    "H: 1 e: 1 l: 3 o: 2"
   ]
  },
  {
   "cell_type": "code",
   "execution_count": 5,
   "id": "ba0bc58a",
   "metadata": {},
   "outputs": [
    {
     "name": "stdout",
     "output_type": "stream",
     "text": [
      "{'H': 1, 'e': 1, 'l': 3, 'o': 2, 'W': 1, 'r': 1, 'd': 1, '!': 1}\n"
     ]
    }
   ],
   "source": [
    "test_str = \"HelloWorld!\"\n",
    "all_freq = {}\n",
    "\n",
    "for i in test_str:\n",
    "    if i in all_freq:\n",
    "        all_freq[i] += 1\n",
    "    else:\n",
    "        all_freq[i] = 1\n",
    "print ( str(all_freq))"
   ]
  },
  {
   "cell_type": "markdown",
   "id": "0b5db718",
   "metadata": {},
   "source": [
    "Q. What is difference between python scripts and Modules?"
   ]
  },
  {
   "cell_type": "code",
   "execution_count": null,
   "id": "f92afad3",
   "metadata": {},
   "outputs": [],
   "source": [
    "the runnable python programs that do something while we exicute them is known as python scripts.\n",
    "python modules are those which are we need to import by which defined members of that module can get exicuted in the script"
   ]
  },
  {
   "cell_type": "markdown",
   "id": "ceb9ee6c",
   "metadata": {},
   "source": [
    "Q. What is the difference between lists and tuples? Which is faster, which is more size ..etc?"
   ]
  },
  {
   "cell_type": "code",
   "execution_count": null,
   "id": "2ec4f318",
   "metadata": {},
   "outputs": [],
   "source": [
    "tuples are immutable and list are mutable.tupples are more memory effecient comparing with the list."
   ]
  },
  {
   "cell_type": "markdown",
   "id": "8b568f4d",
   "metadata": {},
   "source": [
    "Q. List append and extend method difference?"
   ]
  },
  {
   "cell_type": "code",
   "execution_count": null,
   "id": "50deca70",
   "metadata": {},
   "outputs": [],
   "source": [
    "In append it adds an element to the end of the list and the length of the list can be increased only 1 where as in case of extend Each element of the iterable passed as an argument gets appended to the end of the list and the list increased depending on the no. of added elements"
   ]
  },
  {
   "cell_type": "markdown",
   "id": "fca842c4",
   "metadata": {},
   "source": [
    "Q. Remove, pop and delete method difference on list?"
   ]
  },
  {
   "cell_type": "code",
   "execution_count": null,
   "id": "3816f8e5",
   "metadata": {},
   "outputs": [],
   "source": [
    "Remove() will delete only one value from a list at a time,pop() was also works as the same as remove() but in case of delete() we can also delete the whole list at atime"
   ]
  },
  {
   "cell_type": "markdown",
   "id": "cc4d97aa",
   "metadata": {},
   "source": [
    "Q. Check if a list contains an element"
   ]
  },
  {
   "cell_type": "code",
   "execution_count": 7,
   "id": "6bef1b6f",
   "metadata": {},
   "outputs": [
    {
     "name": "stdout",
     "output_type": "stream",
     "text": [
      "Element Exists\n"
     ]
    }
   ],
   "source": [
    "list = [ 1, 6, 3, 5, 3, 4 ]\n",
    "\n",
    "for i in list:\n",
    "\tif(i == 4) :\n",
    "\t\tprint (\"Element Exists\")\n"
   ]
  },
  {
   "cell_type": "markdown",
   "id": "5f2a6762",
   "metadata": {},
   "source": [
    "Q. What does “del” do?"
   ]
  },
  {
   "cell_type": "code",
   "execution_count": null,
   "id": "02476753",
   "metadata": {},
   "outputs": [],
   "source": [
    "del() removes one element from a specific index from a list"
   ]
  },
  {
   "cell_type": "markdown",
   "id": "b2527eb7",
   "metadata": {},
   "source": [
    "Q. Find the index of the 1st matching element?"
   ]
  },
  {
   "cell_type": "code",
   "execution_count": 8,
   "id": "be696993",
   "metadata": {},
   "outputs": [
    {
     "name": "stdout",
     "output_type": "stream",
     "text": [
      "0\n"
     ]
    }
   ],
   "source": [
    "\n",
    "list = [10, 20, 10, 20, 30, 40, 50]\n",
    "print(list.index(10))\n",
    "\n",
    "\n",
    "\n"
   ]
  },
  {
   "cell_type": "markdown",
   "id": "7dd21c18",
   "metadata": {},
   "source": [
    "Q. Remove all elements from a list?"
   ]
  },
  {
   "cell_type": "code",
   "execution_count": 9,
   "id": "2f6c77ab",
   "metadata": {},
   "outputs": [
    {
     "name": "stdout",
     "output_type": "stream",
     "text": [
      "[]\n"
     ]
    }
   ],
   "source": [
    "a = [1, 2, 3, 4, 5]\n",
    "del a[:]\n",
    "print(a)"
   ]
  },
  {
   "cell_type": "markdown",
   "id": "589c4051",
   "metadata": {},
   "source": [
    "Q. Count the occurrence of a specific object in a list"
   ]
  },
  {
   "cell_type": "code",
   "execution_count": 10,
   "id": "de6068a5",
   "metadata": {},
   "outputs": [
    {
     "name": "stdout",
     "output_type": "stream",
     "text": [
      "8 has occurred 5 times\n"
     ]
    }
   ],
   "source": [
    "list = [8, 6, 8, 10, 8, 20, 10, 8, 8]\n",
    "x = 8\n",
    "def countX(list, x):\n",
    "\tcount = 0\n",
    "\tfor ele in list:\n",
    "\t\tif (ele == x):\n",
    "\t\t\tcount = count + 1\n",
    "\treturn count\n",
    "print('{} has occurred {} times'.format(x, countX(list, x)))\n"
   ]
  },
  {
   "cell_type": "markdown",
   "id": "d5f66920",
   "metadata": {},
   "source": [
    "Q. Return the length of a list?"
   ]
  },
  {
   "cell_type": "code",
   "execution_count": 11,
   "id": "fb3b43a4",
   "metadata": {},
   "outputs": [
    {
     "name": "stdout",
     "output_type": "stream",
     "text": [
      "5\n"
     ]
    }
   ],
   "source": [
    "list = [1, 4, 5, 7, 8]\n",
    "count = 0\n",
    "for i in list:\n",
    "    count = count + 1\n",
    "print(count)\n"
   ]
  },
  {
   "cell_type": "markdown",
   "id": "60df95cf",
   "metadata": {},
   "source": [
    "\n",
    "Q. Reverse a list in Python \n",
    "   list1 = [100, 200, 300, 400, 500] --- >[500, 400, 300, 200, 100]\n",
    "\n",
    "\n",
    "Q. Concatenate two lists index-wise \n",
    "list1 = [\"M\", \"na\", \"i\", \"Ke\"]\n",
    "list2 = [\"y\", \"me\", \"s\", \"lly\"] --- >['My', 'name', 'is', 'Kelly']"
   ]
  },
  {
   "cell_type": "code",
   "execution_count": 12,
   "id": "dbb2879e",
   "metadata": {},
   "outputs": [
    {
     "name": "stdout",
     "output_type": "stream",
     "text": [
      "[500, 400, 300, 200, 100]\n"
     ]
    }
   ],
   "source": [
    "lst = [100, 200, 300, 400, 500]\n",
    "def Reverse(lst):\n",
    "    return [ele for ele in reversed(lst)]\n",
    "print(Reverse(lst))\n",
    "\n",
    "\n",
    "\n",
    "\n"
   ]
  },
  {
   "cell_type": "markdown",
   "id": "a7d10a4f",
   "metadata": {},
   "source": [
    "\n",
    "Q. Turn every item of a list into its square \n",
    "   numbers = [1, 2, 3, 4, 5, 6, 7] --- >[1, 4, 9, 16, 25, 36, 49]"
   ]
  },
  {
   "cell_type": "code",
   "execution_count": 13,
   "id": "0bc37618",
   "metadata": {},
   "outputs": [
    {
     "name": "stdout",
     "output_type": "stream",
     "text": [
      "[1, 4, 9, 16, 25]\n"
     ]
    }
   ],
   "source": [
    "numbers = [1, 2, 3, 4, 5]\n",
    "squared_numbers = [number ** 2 for number in numbers]\n",
    "print(squared_numbers)"
   ]
  },
  {
   "cell_type": "markdown",
   "id": "675b56bb",
   "metadata": {},
   "source": [
    "\n",
    "Q. Concatenate two lists in the following order -- \n",
    "list1 = [\"Hello \", \"take \"]\n",
    "list2 = [\"Dear\", \"Sir\"] ----- >['Hello Dear', 'Hello Sir', 'take Dear', 'take Sir']"
   ]
  },
  {
   "cell_type": "code",
   "execution_count": 14,
   "id": "d17fb0d8",
   "metadata": {},
   "outputs": [
    {
     "name": "stdout",
     "output_type": "stream",
     "text": [
      "['Hello Dear', 'Hello Sir', 'take Dear', 'take Sir']\n"
     ]
    }
   ],
   "source": [
    "list1 = [\"Hello \", \"take \"]\n",
    "list2 = [\"Dear\", \"Sir\"]\n",
    "res = [x + y for x in list1 for y in list2] \n",
    "print(res)"
   ]
  },
  {
   "cell_type": "markdown",
   "id": "d70554fe",
   "metadata": {},
   "source": [
    "Q. Iterate both lists simultaneously\n",
    "list1 = [10, 20, 30, 40]\n",
    "list2 = [100, 200, 300, 400] ---- >\n",
    "10 400\n",
    "20 300\n",
    "30 200\n",
    "40 100  "
   ]
  },
  {
   "cell_type": "code",
   "execution_count": 15,
   "id": "1278fd82",
   "metadata": {},
   "outputs": [
    {
     "name": "stdout",
     "output_type": "stream",
     "text": [
      "10 400\n",
      "20 300\n",
      "30 200\n",
      "40 100\n"
     ]
    }
   ],
   "source": [
    "list1 = [10, 20, 30, 40]\n",
    "list2 = [100, 200, 300, 400]\n",
    "for x, y in zip(list1, list2[::-1]):\n",
    "    print(x,y)"
   ]
  },
  {
   "cell_type": "markdown",
   "id": "106cca12",
   "metadata": {},
   "source": [
    "Q. Remove empty strings from the list of strings\n",
    "list1 = [\"Mike\", \"\", \"Emma\", \"Kelly\", \"\", \"Brad\"] --- >[\"Mike\", \"Emma\", \"Kelly\", \"Brad\"]"
   ]
  },
  {
   "cell_type": "code",
   "execution_count": 16,
   "id": "23808680",
   "metadata": {},
   "outputs": [
    {
     "name": "stdout",
     "output_type": "stream",
     "text": [
      "['Mike', 'Emma', 'Kelly', 'Brad']\n"
     ]
    }
   ],
   "source": [
    "list = [\"Mike\", \"\", \"Emma\", \"Kelly\", \"\", \"Brad\"]\n",
    "while (\"\" in list):\n",
    "    list.remove(\"\")\n",
    "print(str(list))\n"
   ]
  },
  {
   "cell_type": "markdown",
   "id": "d9713ac8",
   "metadata": {},
   "source": [
    "\n",
    "Q. Add new item to list after a specified item --- >\n",
    "list1 = [10, 20, [300, 400, [5000, 6000], 500], 30, 40] --->[10, 20, [300, 400, [5000, 6000, 7000], 500], 30, 40]\n"
   ]
  },
  {
   "cell_type": "code",
   "execution_count": 17,
   "id": "5c86c1a5",
   "metadata": {},
   "outputs": [
    {
     "name": "stdout",
     "output_type": "stream",
     "text": [
      "[10, 20, [300, 400, [5000, 6000, 7000], 500], 30, 40]\n"
     ]
    }
   ],
   "source": [
    "list = [10, 20, [300, 400, [5000, 6000], 500], 30, 40]\n",
    "list[2][2].append(7000)\n",
    "print(list1)"
   ]
  },
  {
   "cell_type": "markdown",
   "id": "dda982e7",
   "metadata": {},
   "source": [
    "Q. Extend nested list by adding the sublist\n",
    "list1 = [\"a\", \"b\", [\"c\", [\"d\", \"e\", [\"f\", \"g\"], \"k\"], \"l\"], \"m\", \"n\"]\n",
    "\n",
    "\n",
    "# sub list to add\n",
    "sub_list = [\"h\", \"i\", \"j\"]\n",
    "\n",
    "---- > ['a', 'b', ['c', ['d', 'e', ['f', 'g', 'h', 'i', 'j'], 'k'], 'l'], 'm', 'n']\n"
   ]
  },
  {
   "cell_type": "code",
   "execution_count": 18,
   "id": "ab8d0508",
   "metadata": {},
   "outputs": [
    {
     "name": "stdout",
     "output_type": "stream",
     "text": [
      "['a', 'b', ['c', ['d', 'e', ['f', 'g', 'h', 'i', 'j'], 'k'], 'l'], 'm', 'n']\n"
     ]
    }
   ],
   "source": [
    "list1 = [\"a\", \"b\", [\"c\", [\"d\", \"e\", [\"f\", \"g\"], \"k\"], \"l\"], \"m\", \"n\"]\n",
    "new_list = [\"h\", \"i\", \"j\"]\n",
    "list1[2][1][2].extend(new_list)\n",
    "print(list1)\n"
   ]
  },
  {
   "cell_type": "markdown",
   "id": "3f366363",
   "metadata": {},
   "source": [
    "Q.Replace list’s item with new value if found\n",
    "list1 = [5, 10, 15, 20, 25, 50, 20] ---- >[5, 10, 15, 200, 25, 50, 20]\n"
   ]
  },
  {
   "cell_type": "code",
   "execution_count": 19,
   "id": "d92466a1",
   "metadata": {},
   "outputs": [
    {
     "name": "stdout",
     "output_type": "stream",
     "text": [
      "[5, 10, 15, 200, 25, 50, 20]\n"
     ]
    }
   ],
   "source": [
    "list = [5, 10, 15, 20, 25, 50, 20]\n",
    "index = list.index(20)\n",
    "list[index] = 200\n",
    "print(list)"
   ]
  },
  {
   "cell_type": "code",
   "execution_count": null,
   "id": "926d6cd6",
   "metadata": {},
   "outputs": [],
   "source": []
  }
 ],
 "metadata": {
  "kernelspec": {
   "display_name": "Python 3 (ipykernel)",
   "language": "python",
   "name": "python3"
  },
  "language_info": {
   "codemirror_mode": {
    "name": "ipython",
    "version": 3
   },
   "file_extension": ".py",
   "mimetype": "text/x-python",
   "name": "python",
   "nbconvert_exporter": "python",
   "pygments_lexer": "ipython3",
   "version": "3.9.5"
  }
 },
 "nbformat": 4,
 "nbformat_minor": 5
}
