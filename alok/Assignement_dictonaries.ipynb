{
 "cells": [
  {
   "cell_type": "markdown",
   "id": "48e925e6",
   "metadata": {},
   "source": [
    "Q. Convert snake case into Camel case and vice versa\n",
    "   inp = \"is_valid_number\" --->isValidNumber"
   ]
  },
  {
   "cell_type": "code",
   "execution_count": 1,
   "id": "9001ff3d",
   "metadata": {},
   "outputs": [
    {
     "name": "stdout",
     "output_type": "stream",
     "text": [
      "isValidNumber\n"
     ]
    }
   ],
   "source": [
    "old_str = 'is_valid_number'\n",
    "temp = old_str.split('_')\n",
    "res = temp[0] + ''.join(ele.title() for ele in temp[1:])\n",
    "print( str(res))"
   ]
  },
  {
   "cell_type": "markdown",
   "id": "56ae7dd3",
   "metadata": {},
   "source": [
    "Q. \"\"\"ABCDE --- Move 2 positions cyclic (Use Mod to length of string if Cyclic position is greater than length)\n",
    "      Now result is ---CDEAB\n",
    "      input : ABCDE\n",
    "      output: CDEAB  \n",
    "    \"\"\""
   ]
  },
  {
   "cell_type": "code",
   "execution_count": 1,
   "id": "5738926c",
   "metadata": {},
   "outputs": [
    {
     "name": "stdout",
     "output_type": "stream",
     "text": [
      "CDEAB\n"
     ]
    }
   ],
   "source": [
    "str1 = \"ABCDE\"\n",
    "def leftrotate(s, d):\n",
    "    tmp = s[d:] + s[0: d]\n",
    "    return tmp\n",
    "def rightrotate(s, d):\n",
    " return leftrotate(s, len(s) - d)\n",
    "print(leftrotate(str1, 2))\n"
   ]
  },
  {
   "cell_type": "markdown",
   "id": "4ff03d86",
   "metadata": {},
   "source": [
    "Q. group the elements like below \n",
    " \n",
    " input : ['abt','bta','tab','bar','dsksllkd','tba']\n",
    " \n",
    " output : [['abt', 'bta', 'tab', 'tba'], ['bar'], ['dsksllkd']]        "
   ]
  },
  {
   "cell_type": "code",
   "execution_count": 2,
   "id": "6757375b",
   "metadata": {},
   "outputs": [
    {
     "name": "stdout",
     "output_type": "stream",
     "text": [
      "[['abt'], ['bta'], ['tab'], ['bar'], ['dsksllkd'], ['tba']]\n"
     ]
    }
   ],
   "source": [
    "import itertools\n",
    "strings =  ['abt','bta','tab','bar','dsksllkd','tba']\n",
    "result = []\n",
    "iterator = itertools.groupby(strings, lambda string: string.split('-')[0])\n",
    "for element, group in iterator:\n",
    "   result.append(list(group))\n",
    "print(result)\n"
   ]
  },
  {
   "cell_type": "markdown",
   "id": "ede4f456",
   "metadata": {},
   "source": [
    "Q. Shift all zeroes to last\n",
    "\n",
    "lst = [1,0,1,0,0,1,1,0]"
   ]
  },
  {
   "cell_type": "markdown",
   "id": "e6ce7fe3",
   "metadata": {},
   "source": [
    "Q. \"\"\"AAAABBBCCDDDD you have to print it as 4A3B2C4D\"\"\""
   ]
  },
  {
   "cell_type": "code",
   "execution_count": 5,
   "id": "16e1f5e8",
   "metadata": {},
   "outputs": [
    {
     "name": "stdout",
     "output_type": "stream",
     "text": [
      "{'A': 4, 'B': 3, 'C': 2, 'D': 4}\n"
     ]
    }
   ],
   "source": [
    "import collections\n",
    "string = \"AAAABBBCCDDDD\"\n",
    "frequencies = collections.Counter(string)\n",
    "repeated = {}\n",
    "\n",
    "for key, value in frequencies.items():\n",
    "\n",
    "    if value > 1:\n",
    "        repeated[key] = value\n",
    "print(repeated)"
   ]
  },
  {
   "cell_type": "markdown",
   "id": "1de691d2",
   "metadata": {},
   "source": [
    "Q. example given the string \"Welcome to the danger zone\" should become \"zone danger the to Welcome\" and not enoz regnad eht ot emocleW"
   ]
  },
  {
   "cell_type": "code",
   "execution_count": null,
   "id": "cd387118",
   "metadata": {},
   "outputs": [],
   "source": [
    "def rev_sentence(sentence):\n",
    "    words = sentence.split(' ')\n",
    "    reverse_sentence = ' '.join(reversed(words))\n",
    "    return reverse_sentence\n",
    "if __name__ == \"__main__\":\n",
    "    input = 'Welcome to the danger zone'\n",
    "    print(rev_sentence(input))"
   ]
  },
  {
   "cell_type": "markdown",
   "id": "c65c4dee",
   "metadata": {},
   "source": [
    "Q. You are given a string input, let's say \"Hello World!\". Your output should be, how many times each character is showing up in the string. So, in this example, it should write:\n",
    "\n",
    "H: 1 e: 1 l: 3 o: 2"
   ]
  },
  {
   "cell_type": "code",
   "execution_count": 7,
   "id": "83a1368b",
   "metadata": {},
   "outputs": [
    {
     "name": "stdout",
     "output_type": "stream",
     "text": [
      "{'H': 1, 'e': 1, 'l': 3, 'o': 2, 'W': 1, 'r': 1, 'd': 1, '!': 1}\n"
     ]
    }
   ],
   "source": [
    "test_str = \"HelloWorld!\"\n",
    "all_freq = {}\n",
    "\n",
    "for i in test_str:\n",
    "    if i in all_freq:\n",
    "        all_freq[i] += 1\n",
    "    else:\n",
    "        all_freq[i] = 1\n",
    "print ( str(all_freq))"
   ]
  },
  {
   "cell_type": "code",
   "execution_count": null,
   "id": "4e750026",
   "metadata": {},
   "outputs": [],
   "source": []
  }
 ],
 "metadata": {
  "kernelspec": {
   "display_name": "Python 3 (ipykernel)",
   "language": "python",
   "name": "python3"
  },
  "language_info": {
   "codemirror_mode": {
    "name": "ipython",
    "version": 3
   },
   "file_extension": ".py",
   "mimetype": "text/x-python",
   "name": "python",
   "nbconvert_exporter": "python",
   "pygments_lexer": "ipython3",
   "version": "3.9.5"
  }
 },
 "nbformat": 4,
 "nbformat_minor": 5
}
