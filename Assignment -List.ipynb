{
 "cells": [
  {
   "cell_type": "markdown",
   "id": "97c99978",
   "metadata": {},
   "source": [
    "Q. Indexing and Negative Indexing (How can You reverse a string through indexing?)\n",
    "\n"
   ]
  },
  {
   "cell_type": "code",
   "execution_count": null,
   "id": "8a78b80b",
   "metadata": {},
   "outputs": [],
   "source": [
    "index() is an inbuilt function in Python, which searches for a given element from the start of the list and returns the lowest index where the element appears. Negative indexing- Use negative indexes to start the slice from the end of the string.\n"
   ]
  },
  {
   "cell_type": "code",
   "execution_count": 7,
   "id": "dc6aeef8",
   "metadata": {},
   "outputs": [
    {
     "name": "stdout",
     "output_type": "stream",
     "text": [
      "dlroW olleH\n"
     ]
    }
   ],
   "source": [
    "txt = \"Hello World\"[::-1]\n",
    "print(txt)"
   ]
  },
  {
   "cell_type": "code",
   "execution_count": null,
   "id": "11cb4c1b",
   "metadata": {},
   "outputs": [],
   "source": []
  },
  {
   "cell_type": "markdown",
   "id": "ee5feec9",
   "metadata": {},
   "source": [
    "Q. example given the string \"Welcome to the danger zone\" should become \"zone danger the to Welcome\" and not enoz regnad eht ot emocleW\n",
    "\n"
   ]
  },
  {
   "cell_type": "code",
   "execution_count": 8,
   "id": "3a891009",
   "metadata": {},
   "outputs": [
    {
     "name": "stdout",
     "output_type": "stream",
     "text": [
      "zone danger the to Welcome\n"
     ]
    }
   ],
   "source": [
    "def rev_sentence(sentence):\n",
    "    words = sentence.split(' ')\n",
    "    reverse_sentence = ' '.join(reversed(words))\n",
    "    return reverse_sentence\n",
    "if __name__ == \"__main__\":\n",
    "    input = 'Welcome to the danger zone'\n",
    "    print(rev_sentence(input))\n",
    "\n"
   ]
  },
  {
   "cell_type": "markdown",
   "id": "79a8379e",
   "metadata": {},
   "source": [
    "Q. You are given a string input, let's say \"Hello World!\". Your output should be, how many times each character is showing up in the string. So, in this example, it should write:\n",
    "\n",
    "H: 1 e: 1 l: 3 o: 2\n",
    "\n"
   ]
  },
  {
   "cell_type": "code",
   "execution_count": 9,
   "id": "4fd76d2e",
   "metadata": {},
   "outputs": [
    {
     "name": "stdout",
     "output_type": "stream",
     "text": [
      "{'H': 1, 'e': 1, 'l': 3, 'o': 2, 'W': 1, 'r': 1, 'd': 1, '!': 1}\n"
     ]
    }
   ],
   "source": [
    "test_str = \"HelloWorld!\"\n",
    "all_freq = {}\n",
    "\n",
    "for i in test_str:\n",
    "\tif i in all_freq:\n",
    "\t\tall_freq[i] += 1\n",
    "\telse:\n",
    "\t\tall_freq[i] = 1\n",
    "print ( str(all_freq))\n"
   ]
  },
  {
   "cell_type": "markdown",
   "id": "0b5db718",
   "metadata": {},
   "source": [
    "Q. What is difference between python scripts and Modules?\n",
    "\n",
    "\n"
   ]
  },
  {
   "cell_type": "code",
   "execution_count": null,
   "id": "d102c2e0",
   "metadata": {},
   "outputs": [],
   "source": [
    "Python script-->The Python script is basically a file containing code written in Python. \n",
    "                The file containing python script has the extension ‘.py’ or can also have the extension ‘.pyw’ if it is being                 run on a windows machine.\n",
    "Python modules-->A Python module is a file containing Python definitions and statements.\n",
    "                 A module can define functions,classes, and variables.\n",
    "                 A module can also include runnable.\n"
   ]
  },
  {
   "cell_type": "markdown",
   "id": "ceb9ee6c",
   "metadata": {},
   "source": [
    "Q. What is the difference between lists and tuples? Which is faster, which is more size ..etc?\n",
    "\n"
   ]
  },
  {
   "cell_type": "code",
   "execution_count": null,
   "id": "a5114aaf",
   "metadata": {},
   "outputs": [],
   "source": [
    "Lists-->A list is mutable.\n",
    "        The implication of iterations is time-consuming in the list.\n",
    "        Consumes more memory.\n",
    "        Many built-in methods are available.\n",
    "        list is used when data be modified frequently. \n",
    "Tuples-->A tuple is immutable.\n",
    "         Implications of iterations are much faster in tuples.\n",
    "         Consumes less memory.\n",
    "         Does not have many built-in methods.\n",
    "         tuple can be used when data cannot be changed."
   ]
  },
  {
   "cell_type": "markdown",
   "id": "8b568f4d",
   "metadata": {},
   "source": [
    "Q. List append and extend method difference?\n",
    "\n"
   ]
  },
  {
   "cell_type": "code",
   "execution_count": null,
   "id": "8bdeeafa",
   "metadata": {},
   "outputs": [],
   "source": [
    "Lists-->A list is mutable.\n",
    "        The implication of iterations is time-consuming in the list.\n",
    "        Consumes more memory.\n",
    "        Many built-in methods are available.\n",
    "        list is used when data be modified frequently. \n",
    "Tuples-->A tuple is immutable.\n",
    "         Implications of iterations are much faster in tuples.\n",
    "         Consumes less memory.\n",
    "         Does not have many built-in methods.\n",
    "         tuple can be used when data cannot be changed."
   ]
  },
  {
   "cell_type": "markdown",
   "id": "fca842c4",
   "metadata": {},
   "source": [
    "Q. Remove, pop and delete method difference on list?\n",
    "\n"
   ]
  },
  {
   "cell_type": "code",
   "execution_count": null,
   "id": "e9ece330",
   "metadata": {},
   "outputs": [],
   "source": [
    "Remove-->It is a method.\n",
    "         To delete value this method uses the value as a parameter.\n",
    "         remove() method removes the first matching value from the list.\n",
    "\n",
    "Pop-->pop() is a method.\n",
    "      This method also uses the index as a parameter to delete.\n",
    "      At a time it deletes only one value from the list.\n",
    "      The pop() method like del deletes value at a particular index. But pop() method returns deleted value from the list.\n",
    "\n",
    "Delete-->del is a keyword.\n",
    "         To delete value it uses the index\n",
    "         The del keyword can delete the single value from a list or delete the whole list at a time."
   ]
  },
  {
   "cell_type": "markdown",
   "id": "cc4d97aa",
   "metadata": {},
   "source": [
    "Q. Check if a list contains an element\n",
    "\n"
   ]
  },
  {
   "cell_type": "code",
   "execution_count": 20,
   "id": "751d7aac",
   "metadata": {},
   "outputs": [
    {
     "name": "stdout",
     "output_type": "stream",
     "text": [
      "Checking if 4 exists in list ( using loop ) : \n",
      "Element Exists\n"
     ]
    }
   ],
   "source": [
    "\n",
    "test_list = [1, 6, 3, 5, 3, 4]\n",
    "print(\"Checking if 4 exists in list ( using loop ) : \")\n",
    "for i in test_list:\n",
    "    if (i == 4):\n",
    "        print(\"Element Exists\")\n",
    "\n"
   ]
  },
  {
   "cell_type": "markdown",
   "id": "5f2a6762",
   "metadata": {},
   "source": [
    "Q. What does “del” do?"
   ]
  },
  {
   "cell_type": "code",
   "execution_count": null,
   "id": "929d2ef2",
   "metadata": {},
   "outputs": [],
   "source": [
    "The del keyword can delete the single value from a list or delete the whole list at a time."
   ]
  },
  {
   "cell_type": "markdown",
   "id": "b2527eb7",
   "metadata": {},
   "source": [
    "Q. Find the index of the 1st matching element?"
   ]
  },
  {
   "cell_type": "code",
   "execution_count": 18,
   "id": "3664324b",
   "metadata": {},
   "outputs": [
    {
     "name": "stdout",
     "output_type": "stream",
     "text": [
      "The index of 21 in the list is: 0\n"
     ]
    }
   ],
   "source": [
    "mylist = [21, 5, 8, 52, 21, 87]\n",
    "item = 21\n",
    "index = mylist.index(item)\n",
    "print('The index of', item, 'in the list is:', index)"
   ]
  },
  {
   "cell_type": "markdown",
   "id": "7dd21c18",
   "metadata": {},
   "source": [
    "Q. Remove all elements from a list?"
   ]
  },
  {
   "cell_type": "code",
   "execution_count": 17,
   "id": "61435117",
   "metadata": {},
   "outputs": [
    {
     "name": "stdout",
     "output_type": "stream",
     "text": [
      "number before clear: [6, 0, 4, 1]\n",
      "number after clear: []\n"
     ]
    }
   ],
   "source": [
    "\n",
    "number = [6, 0, 4, 1]\n",
    "print('number before clear:', number)\n",
    "number.clear()\n",
    "print('number after clear:', number)\n"
   ]
  },
  {
   "cell_type": "markdown",
   "id": "589c4051",
   "metadata": {},
   "source": [
    "Q. Count the occurrence of a specific object in a list"
   ]
  },
  {
   "cell_type": "code",
   "execution_count": 19,
   "id": "9c172425",
   "metadata": {},
   "outputs": [
    {
     "name": "stdout",
     "output_type": "stream",
     "text": [
      "2\n"
     ]
    }
   ],
   "source": [
    "a_list = [\"a\", \"b\", \"a\"]\n",
    "occurrences = a_list.count(\"a\")\n",
    "print(occurrences)\n"
   ]
  },
  {
   "cell_type": "markdown",
   "id": "d5f66920",
   "metadata": {},
   "source": [
    "Q. Return the length of a list?"
   ]
  },
  {
   "cell_type": "code",
   "execution_count": 13,
   "id": "ccc12dd6",
   "metadata": {},
   "outputs": [
    {
     "name": "stdout",
     "output_type": "stream",
     "text": [
      "The length of list is:  4\n"
     ]
    }
   ],
   "source": [
    "a = []\n",
    "a.append(\"Hello\")\n",
    "a.append(\"kalyani\")\n",
    "a.append(\"odhisha\")\n",
    "a.append(\"India\")\n",
    "print(\"The length of list is: \", len(a))\n"
   ]
  },
  {
   "cell_type": "raw",
   "id": "9479e53c",
   "metadata": {},
   "source": [
    "\n",
    "Q. Reverse a list in Python \n",
    "   list1 = [100, 200, 300, 400, 500] --- >[500, 400, 300, 200, 100]\n",
    "   \n",
    " list1=[100, 200, 300, 400, 500]\n",
    "list1.reverse()\n",
    "print(list1)\n",
    "\n",
    "\n",
    "    \n",
    "\n",
    "\n",
    "Q. Concatenate two lists index-wise \n",
    "list1 = [\"M\", \"na\", \"i\", \"Ke\"]\n",
    "list2 = [\"y\", \"me\", \"s\", \"lly\"] --- >['My', 'name', 'is', 'Kelly']"
   ]
  },
  {
   "cell_type": "code",
   "execution_count": 10,
   "id": "84fc70d5",
   "metadata": {},
   "outputs": [
    {
     "name": "stdout",
     "output_type": "stream",
     "text": [
      "['My', 'name', 'is', 'Kelly']\n"
     ]
    }
   ],
   "source": [
    "list1 = [\"M\", \"na\", \"i\", \"Ke\"]\n",
    "list2 = [\"y\", \"me\", \"s\", \"lly\"]\n",
    "list3 = [i + j for i, j in zip(list1, list2)]\n",
    "print(list3)"
   ]
  },
  {
   "cell_type": "code",
   "execution_count": 6,
   "id": "32e80ce4",
   "metadata": {},
   "outputs": [
    {
     "name": "stdout",
     "output_type": "stream",
     "text": [
      "[500, 400, 300, 200, 100]\n"
     ]
    }
   ],
   "source": [
    " list1=[100, 200, 300, 400, 500]\n",
    "list1.reverse()\n",
    "print(list1)\n",
    "\n"
   ]
  },
  {
   "cell_type": "raw",
   "id": "786d98ee",
   "metadata": {},
   "source": [
    "\n",
    "Q. Turn every item of a list into its square \n",
    "   numbers = [1, 2, 3, 4, 5, 6, 7] --- >[1, 4, 9, 16, 25, 36, 49]\n",
    "  "
   ]
  },
  {
   "cell_type": "code",
   "execution_count": 5,
   "id": "bb88232f",
   "metadata": {},
   "outputs": [
    {
     "name": "stdout",
     "output_type": "stream",
     "text": [
      "[1, 4, 9, 16, 25, 36, 49]\n"
     ]
    }
   ],
   "source": [
    "\n",
    "   numbers = [1, 2, 3, 4, 5,6,7]\n",
    "def square(number):\n",
    "\treturn number ** 2\n",
    "squaring_iterator = map(square, numbers)\n",
    "squared_numbers = list(squaring_iterator)\n",
    "print(squared_numbers)\n"
   ]
  },
  {
   "cell_type": "raw",
   "id": "43305c6f",
   "metadata": {},
   "source": [
    "# Q. Concatenate two lists in the following order -- \n",
    "list1 = [\"Hello \", \"take \"]\n",
    "list2 = [\"Dear\", \"Sir\"] ----- >['Hello Dear', 'Hello Sir', 'take Dear', 'take Sir']\n"
   ]
  },
  {
   "cell_type": "code",
   "execution_count": 4,
   "id": "343b10bf",
   "metadata": {},
   "outputs": [
    {
     "name": "stdout",
     "output_type": "stream",
     "text": [
      "['Hello Dear', 'Hello Sir', 'take Dear', 'take Sir']\n"
     ]
    },
    {
     "ename": "ValueError",
     "evalue": "list.remove(x): x not in list",
     "output_type": "error",
     "traceback": [
      "\u001b[1;31m---------------------------------------------------------------------------\u001b[0m",
      "\u001b[1;31mValueError\u001b[0m                                Traceback (most recent call last)",
      "Input \u001b[1;32mIn [4]\u001b[0m, in \u001b[0;36m<cell line: 5>\u001b[1;34m()\u001b[0m\n\u001b[0;32m      3\u001b[0m resList \u001b[38;5;241m=\u001b[39m [x\u001b[38;5;241m+\u001b[39my \u001b[38;5;28;01mfor\u001b[39;00m x \u001b[38;5;129;01min\u001b[39;00m list1 \u001b[38;5;28;01mfor\u001b[39;00m y \u001b[38;5;129;01min\u001b[39;00m list2]\n\u001b[0;32m      4\u001b[0m \u001b[38;5;28mprint\u001b[39m(resList)\n\u001b[1;32m----> 5\u001b[0m str_list\u001b[38;5;241m.\u001b[39mremove(\u001b[38;5;124m\"\u001b[39m\u001b[38;5;124m\"\u001b[39m)\n",
      "\u001b[1;31mValueError\u001b[0m: list.remove(x): x not in list"
     ]
    }
   ],
   "source": [
    "list1 = [\"Hello \", \"take \"]\n",
    "list2 = [\"Dear\", \"Sir\"]\n",
    "resList = [x+y for x in list1 for y in list2]\n",
    "print(resList)\n",
    "str_list.remove(\"\")"
   ]
  },
  {
   "cell_type": "markdown",
   "id": "d70554fe",
   "metadata": {},
   "source": [
    "Q. Iterate both lists simultaneously\n",
    "list1 = [10, 20, 30, 40]\n",
    "list2 = [100, 200, 300, 400] ---- >\n",
    "10 400\n",
    "20 300\n",
    "30 200\n",
    "40 100  "
   ]
  },
  {
   "cell_type": "code",
   "execution_count": null,
   "id": "9342feb0",
   "metadata": {},
   "outputs": [],
   "source": [
    "list1 = [10, 20, 30, 40]\n",
    "list2 = [100, 200, 300, 400]\n",
    "for x, y in zip(list1, list2[::-1]):\n",
    "    print(x, y)"
   ]
  },
  {
   "cell_type": "raw",
   "id": "abf95f81",
   "metadata": {},
   "source": [
    "Q. Remove empty strings from the list of strings\n",
    "list1 = [\"Mike\", \"\", \"Emma\", \"Kelly\", \"\", \"Brad\"] --- >[\"Mike\", \"Emma\", \"Kelly\", \"Brad\"]"
   ]
  },
  {
   "cell_type": "code",
   "execution_count": 3,
   "id": "a48f4b3a",
   "metadata": {},
   "outputs": [
    {
     "name": "stdout",
     "output_type": "stream",
     "text": [
      "['Mike', 'Emma', 'Kelly', 'Brad']\n"
     ]
    }
   ],
   "source": [
    "str_list = [\"Mike\", \"\" , \"Emma\", \"Kelly\", \"\", \"Brad\"]\n",
    "while \"\" in str_list:\n",
    "    str_list.remove(\"\")\n",
    "print(str_list)\n"
   ]
  },
  {
   "cell_type": "markdown",
   "id": "d9713ac8",
   "metadata": {},
   "source": [
    "\n",
    "Q. Add new item to list after a specified item --- >\n",
    "list1 = [10, 20, [300, 400, [5000, 6000], 500], 30, 40] --->[10, 20, [300, 400, [5000, 6000, 7000], 500], 30, 40]\n"
   ]
  },
  {
   "cell_type": "code",
   "execution_count": 11,
   "id": "1ec3631e",
   "metadata": {},
   "outputs": [
    {
     "name": "stdout",
     "output_type": "stream",
     "text": [
      "[10, 20, [300, 400, [5000, 6000, 7000], 500], 30, 40]\n"
     ]
    }
   ],
   "source": [
    "list1 = [10, 20, [300, 400, [5000, 6000], 500], 30, 40]\n",
    "list1[2][2].append(7000)\n",
    "print(list1)"
   ]
  },
  {
   "cell_type": "raw",
   "id": "9b368867",
   "metadata": {},
   "source": [
    "Q. Extend nested list by adding the sublist\n",
    "list1 = [\"a\", \"b\", [\"c\", [\"d\", \"e\", [\"f\", \"g\"], \"k\"], \"l\"], \"m\", \"n\"]\n",
    "\n",
    "\n",
    "# sub list to add\n",
    "sub_list = [\"h\", \"i\", \"j\"]\n",
    "\n"
   ]
  },
  {
   "cell_type": "code",
   "execution_count": 2,
   "id": "38855b77",
   "metadata": {},
   "outputs": [
    {
     "name": "stdout",
     "output_type": "stream",
     "text": [
      "['a', 'b', ['c', ['d', 'e', ['f', 'g', 'h', 'i', 'j'], 'k'], 'l'], 'm', 'n']\n"
     ]
    }
   ],
   "source": [
    "list1 = [\"a\", \"b\", [\"c\", [\"d\", \"e\", [\"f\", \"g\"], \"k\"], \"l\"], \"m\", \"n\"]\n",
    "sub_list = [\"h\", \"i\", \"j\"]\n",
    "list1[2][1][2].extend(sub_list)\n",
    "print(list1)\n"
   ]
  },
  {
   "cell_type": "markdown",
   "id": "3f366363",
   "metadata": {},
   "source": [
    "Q.Replace list’s item with new value if found\n",
    "list1 = [5, 10, 15, 20, 25, 50, 20] ---- >[5, 10, 15, 200, 25, 50, 20]\n"
   ]
  },
  {
   "cell_type": "code",
   "execution_count": 12,
   "id": "da95c09f",
   "metadata": {},
   "outputs": [
    {
     "name": "stdout",
     "output_type": "stream",
     "text": [
      "[5, 10, 15, 200, 25, 50, 20]\n"
     ]
    }
   ],
   "source": [
    "list1 = [5, 10, 15, 20, 25, 50, 20]\n",
    "index = list1.index(20)\n",
    "list1[index] = 200\n",
    "print(list1)"
   ]
  }
 ],
 "metadata": {
  "kernelspec": {
   "display_name": "Python 3 (ipykernel)",
   "language": "python",
   "name": "python3"
  },
  "language_info": {
   "codemirror_mode": {
    "name": "ipython",
    "version": 3
   },
   "file_extension": ".py",
   "mimetype": "text/x-python",
   "name": "python",
   "nbconvert_exporter": "python",
   "pygments_lexer": "ipython3",
   "version": "3.9.7"
  }
 },
 "nbformat": 4,
 "nbformat_minor": 5
}
