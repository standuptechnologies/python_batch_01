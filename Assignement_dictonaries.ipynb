{
 "cells": [
  {
   "cell_type": "markdown",
   "id": "48e925e6",
   "metadata": {},
   "source": [
    "Q. Convert snake case into Camel case and vice versa\n",
    "   inp = \"is_valid_number\" --->isValidNumber"
   ]
  },
  {
   "cell_type": "markdown",
   "id": "56ae7dd3",
   "metadata": {},
   "source": [
    "Q. \"\"\"ABCDE --- Move 2 positions cyclic (Use Mod to length of string if Cyclic position is greater than length)\n",
    "      Now result is ---CDEAB\n",
    "      input : ABCDE\n",
    "      output: CDEAB  \n",
    "    \"\"\""
   ]
  },
  {
   "cell_type": "markdown",
   "id": "4ff03d86",
   "metadata": {},
   "source": [
    "Q. group the elements like below \n",
    " \n",
    " input : ['abt','bta','tab','bar','dsksllkd','tba']\n",
    " \n",
    " output : [['abt', 'bta', 'tab', 'tba'], ['bar'], ['dsksllkd']]        "
   ]
  },
  {
   "cell_type": "markdown",
   "id": "ede4f456",
   "metadata": {},
   "source": [
    "Q. Shift all zeroes to last\n",
    "\n",
    "lst = [1,0,1,0,0,1,1,0]"
   ]
  },
  {
   "cell_type": "markdown",
   "id": "e6ce7fe3",
   "metadata": {},
   "source": [
    "Q. \"\"\"AAAABBBCCDDDD you have to print it as 4A3B2C4D\"\"\""
   ]
  },
  {
   "cell_type": "markdown",
   "id": "1de691d2",
   "metadata": {},
   "source": [
    "Q. example given the string \"Welcome to the danger zone\" should become \"zone danger the to Welcome\" and not enoz regnad eht ot emocleW"
   ]
  },
  {
   "cell_type": "markdown",
   "id": "c65c4dee",
   "metadata": {},
   "source": [
    "Q. You are given a string input, let's say \"Hello World!\". Your output should be, how many times each character is showing up in the string. So, in this example, it should write:\n",
    "\n",
    "H: 1 e: 1 l: 3 o: 2"
   ]
  }
 ],
 "metadata": {
  "kernelspec": {
   "display_name": "Python 3 (ipykernel)",
   "language": "python",
   "name": "python3"
  },
  "language_info": {
   "codemirror_mode": {
    "name": "ipython",
    "version": 3
   },
   "file_extension": ".py",
   "mimetype": "text/x-python",
   "name": "python",
   "nbconvert_exporter": "python",
   "pygments_lexer": "ipython3",
   "version": "3.9.8"
  }
 },
 "nbformat": 4,
 "nbformat_minor": 5
}
